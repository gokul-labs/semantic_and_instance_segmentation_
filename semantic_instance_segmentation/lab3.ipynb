{
  "cells": [
    {
      "cell_type": "markdown",
      "metadata": {
        "id": "QHnVupBBn9eR"
      },
      "source": [
        "\n",
        "# Assignment 3\n",
        "\n",
        "This is a template notebook for Assignment 3.\n"
      ]
    },
    {
      "cell_type": "markdown",
      "metadata": {
        "id": "vM54r6jlKTII"
      },
      "source": [
        "## Install dependencies and initialization"
      ]
    },
    {
      "cell_type": "code",
      "execution_count": null,
      "metadata": {
        "id": "9_FzH13EjseR",
        "collapsed": true
      },
      "outputs": [],
      "source": [
        "# The next 8 lines added to be compatible with version changes (2022/10/13).\n",
        "# change cuda to 11.1\n",
        "import os\n",
        "p = os.getenv('PATH')\n",
        "ld = os.getenv('LD_LIBRARY_PATH')\n",
        "os.environ['PATH'] = f\"/usr/local/cuda-11.1/bin:{p}\"\n",
        "os.environ['LD_LIBRARY_PATH'] = f\"/usr/local/cuda-11.1/lib64:{ld}\"\n",
        "# change pytorch to 1.9.0 compiled with cuda 11.1\n",
        "!pip install torch==1.9.0+cu111 torchvision==0.10.0+cu111 -f https://download.pytorch.org/whl/torch_stable.html\n",
        "\n",
        "\n",
        "# install dependencies: \n",
        "!pip install pyyaml==5.1 pycocotools>=2.0.1\n",
        "# !pip install detectron2 -f https://dl.fbaipublicfiles.com/detectron2/wheels/cu101/torch1.6/index.html\n",
        "!pip install detectron2 -f https://dl.fbaipublicfiles.com/detectron2/wheels/cu111/torch1.9/index.html"
      ]
    },
    {
      "cell_type": "code",
      "execution_count": null,
      "metadata": {
        "id": "dqAUb5Y12qXt",
        "collapsed": true
      },
      "outputs": [],
      "source": [
        "!pwd # shows current directory\n",
        "!ls  # shows all files in this directory\n",
        "!nvidia-smi # shows the specs and the current status of the allocated GPU"
      ]
    },
    {
      "cell_type": "code",
      "execution_count": null,
      "metadata": {
        "id": "b-i4hmGYk1dL",
        "collapsed": true
      },
      "outputs": [],
      "source": [
        "# import some common libraries\n",
        "from google.colab.patches import cv2_imshow\n",
        "from sklearn.metrics import jaccard_score\n",
        "from PIL import Image, ImageDraw\n",
        "from tqdm.notebook import tqdm\n",
        "import pandas as pd\n",
        "import numpy as np\n",
        "import datetime\n",
        "import random\n",
        "import json\n",
        "import cv2\n",
        "import csv\n",
        "import os\n",
        "\n",
        "# import some common pytorch utilities\n",
        "from torch.utils.data import Dataset, DataLoader\n",
        "import torchvision.transforms as transforms\n",
        "from torch.autograd import Variable\n",
        "import torch.nn.functional as F\n",
        "import torch.nn as nn\n",
        "import torch\n",
        "\n",
        "# import some common detectron2 utilities\n",
        "import detectron2\n",
        "from detectron2 import model_zoo\n",
        "from detectron2.config import get_cfg\n",
        "from detectron2.structures import BoxMode\n",
        "from detectron2.engine import DefaultTrainer\n",
        "from detectron2.engine import DefaultPredictor\n",
        "from detectron2.utils.logger import setup_logger\n",
        "from detectron2.utils.visualizer import ColorMode\n",
        "from detectron2.utils.visualizer import Visualizer\n",
        "from detectron2.data import build_detection_test_loader\n",
        "from detectron2.data import MetadataCatalog, DatasetCatalog\n",
        "from detectron2.evaluation import COCOEvaluator, inference_on_dataset\n",
        "setup_logger()"
      ]
    },
    {
      "cell_type": "code",
      "execution_count": null,
      "metadata": {
        "id": "tUA_j6AF1L5Y",
        "collapsed": true
      },
      "outputs": [],
      "source": [
        "# Make sure that GPU is available for your notebook. \n",
        "# Otherwise, you need to update the settungs in Runtime -> Change runtime type -> Hardware accelerator\n",
        "import torch\n",
        "torch.cuda.is_available()"
      ]
    },
    {
      "cell_type": "code",
      "execution_count": null,
      "metadata": {
        "id": "ZyAvNCJMmvFF",
        "collapsed": true
      },
      "outputs": [],
      "source": [
        "# You need to mount your google drive in order to load the data:\n",
        "from google.colab import drive\n",
        "drive.mount('/content/drive')\n",
        "# Put all the corresponding data files in a data folder and put the data folder in a same directory with this notebook.\n",
        "# Also create an output directory for your files such as the trained models and the output images."
      ]
    },
    {
      "cell_type": "code",
      "execution_count": null,
      "metadata": {
        "id": "A_Di_fgL4HSv"
      },
      "outputs": [],
      "source": [
        "# Define the location of current directory, which should contain data/train, data/test, and data/train.json.\n",
        "# TODO: approx 1 line\n",
        "BASE_DIR = '/content/drive/MyDrive/CMPT_CV_lab3/data'\n",
        "OUTPUT_DIR = '{}/output'.format(BASE_DIR)\n",
        "os.makedirs(OUTPUT_DIR, exist_ok=True)"
      ]
    },
    {
      "cell_type": "markdown",
      "metadata": {
        "id": "Vk4gID50K03a"
      },
      "source": [
        "## Part 1: Object Detection"
      ]
    },
    {
      "cell_type": "markdown",
      "metadata": {
        "id": "xRV-KFJzlur4"
      },
      "source": [
        "### Data Loader"
      ]
    },
    {
      "cell_type": "code",
      "execution_count": null,
      "metadata": {
        "id": "dq9GY37ml1kr"
      },
      "outputs": [],
      "source": [
        "from zmq.constants import NULL\n",
        "from os import listdir\n",
        "from os.path import isfile, join\n",
        "from PIL import ImageFile\n",
        "ImageFile.LOAD_TRUNCATED_IMAGES = True\n",
        "'''\n",
        "# This function should return a list of data samples in which each sample is a dictionary. \n",
        "# Make sure to select the correct bbox_mode for the data\n",
        "# For the test data, you only have access to the images, therefore, the annotations should be empty.\n",
        "# Other values could be obtained from the image files.\n",
        "# TODO: approx 35 lines\n",
        "'''\n",
        "\n",
        "def get_detection_data(set_name):\n",
        "\n",
        "  # Save result in pkl file to speed up repeated access\n",
        "  # import pickle\n",
        "\n",
        "  # if set_name == \"test\":\n",
        "  #   with open('/content/drive/MyDrive/CMPT_CV_lab3/data/dataset_dicts_test.pkl', 'rb') as f:\n",
        "  #       result = pickle.load(f)\n",
        "\n",
        "  # if set_name == \"train\":\n",
        "  #   with open('/content/drive/MyDrive/CMPT_CV_lab3/data/dataset_dicts_train.pkl', 'rb') as f:\n",
        "  #       result1 = pickle.load(f)\n",
        "\n",
        "  #   with open('/content/drive/MyDrive/CMPT_CV_lab3/data/dataset_dicts_val.pkl', 'rb') as f:\n",
        "  #       result2 = pickle.load(f)\n",
        "\n",
        "  #   result = result1 + result2\n",
        "\n",
        "\n",
        "  if set_name == \"train\":\n",
        "    json_file = os.path.join(BASE_DIR, \"train\", \"train.json\")\n",
        "    with open(json_file) as f:\n",
        "        imgs_anns = json.load(f)\n",
        "    dataset = {}\n",
        "\n",
        "    for v in imgs_anns:\n",
        "        if v[\"image_id\"] not in dataset:\n",
        "          record = {}\n",
        "          file_name = os.path.join(BASE_DIR, \"train\", v[\"file_name\"])\n",
        "          img = cv2.imread(file_name)\n",
        "          if img is None:\n",
        "            img = Image.open(file_name)\n",
        "            img = np.asarray(img)\n",
        "          if img is not None:\n",
        "            height, width = img.shape[:2]\n",
        "            record[\"file_name\"] = file_name\n",
        "            record[\"image_id\"] = v[\"image_id\"]\n",
        "            record[\"height\"] = height\n",
        "            record[\"width\"] = width\n",
        "            record[\"annotations\"] = []\n",
        "\n",
        "            obj = {\n",
        "                \"bbox\": v[\"bbox\"],\n",
        "                \"bbox_mode\": BoxMode.XYWH_ABS,\n",
        "                \"segmentation\": v[\"segmentation\"],\n",
        "                \"category_id\": 0,\n",
        "                \"iscrowd\" : v[\"iscrowd\"]\n",
        "            }\n",
        "            record[\"annotations\"].append(obj)\n",
        "            dataset[v[\"image_id\"]] = record\n",
        "        else:\n",
        "          obj = {\n",
        "              \"bbox\": v[\"bbox\"],\n",
        "              \"bbox_mode\": BoxMode.XYWH_ABS,\n",
        "              \"segmentation\": v[\"segmentation\"],\n",
        "              \"category_id\": 0,\n",
        "              \"iscrowd\" : v[\"iscrowd\"]\n",
        "          }\n",
        "          dataset[v[\"image_id\"]][\"annotations\"].append(obj)\n",
        "  elif set_name == \"test\":\n",
        "    image_id = 0\n",
        "    dataset = {}\n",
        "\n",
        "    for f in listdir(join(BASE_DIR, set_name)):\n",
        "      if isfile(join(BASE_DIR, set_name, f)):\n",
        "        record = {}\n",
        "        file_name = join(BASE_DIR, set_name, f)\n",
        "        img = cv2.imread(file_name)\n",
        "        if img is None:\n",
        "          img = Image.open(file_name)\n",
        "          img = np.asarray(img)\n",
        "        if img is not None:\n",
        "          height, width = img.shape[:2]\n",
        "          record[\"file_name\"] = file_name\n",
        "          record[\"image_id\"] = image_id\n",
        "          record[\"height\"] = height\n",
        "          record[\"width\"] = width\n",
        "          record[\"annotations\"] = []\n",
        "          dataset[f] = record\n",
        "      image_id += 1\n",
        "\n",
        "  result = list(dataset.values())\n",
        "\n",
        "  \n",
        "  return result"
      ]
    },
    {
      "cell_type": "code",
      "execution_count": null,
      "metadata": {
        "id": "xCH-2mWxDVVu"
      },
      "outputs": [],
      "source": [
        "'''\n",
        "# Remember to add your dataset to DatasetCatalog and MetadataCatalog\n",
        "# Consdier \"data_detection_train\" and \"data_detection_test\" for registration\n",
        "# You can also add an optional \"data_detection_val\" for your validation by spliting the training data\n",
        "# TODO: approx 5 lines\n",
        "'''\n",
        "\n",
        "for d in [\"train\", \"test\"]:\n",
        "    DatasetCatalog.register(\"data_detection_\" + d, lambda d=d: get_detection_data(d))\n",
        "    MetadataCatalog.get(\"data_detection_\" + d).set(thing_classes=[\"planes\"])\n",
        "data_detection_train_metadata = MetadataCatalog.get(\"data_detection_train\")\n",
        "data_detection_test_metadata = MetadataCatalog.get(\"data_detection_test\")"
      ]
    },
    {
      "cell_type": "code",
      "execution_count": null,
      "metadata": {
        "id": "qNSdXCL_DVAz"
      },
      "outputs": [],
      "source": [
        "'''\n",
        "# Visualize some samples using Visualizer to make sure that the function works correctly\n",
        "# TODO: approx 5 lines\n",
        "'''\n",
        "dataset_dicts_train = get_detection_data(\"train\")\n",
        "dataset_dicts_test = get_detection_data(\"test\")\n",
        "for d in random.sample(dataset_dicts_train, 3):\n",
        "    img = cv2.imread(d[\"file_name\"])\n",
        "    visualizer = Visualizer(img[:, :, ::-1], metadata=data_detection_train_metadata, scale=0.5)\n",
        "    out = visualizer.draw_dataset_dict(d)\n",
        "    cv2_imshow(out.get_image()[:, :, ::-1])\n"
      ]
    },
    {
      "cell_type": "code",
      "execution_count": null,
      "metadata": {
        "id": "wbh62iUZuPmt"
      },
      "outputs": [],
      "source": [
        "import pickle\n",
        "# with open('/content/drive/MyDrive/CMPT_CV_lab3/data/dataset_dicts_test.pkl', 'wb') as f:\n",
        "#     pickle.dump(dataset_dicts_test, f)\n",
        "\n",
        "# with open('/content/drive/MyDrive/CMPT_CV_lab3/data/dataset_dicts_train.pkl', 'wb') as f:\n",
        "#     pickle.dump(dataset_dicts_train, f)\n",
        "\n",
        "# with open('/content/drive/MyDrive/CMPT_CV_lab3/data/dataset_dicts_val.pkl', 'wb') as f:\n",
        "#     pickle.dump(dataset_dicts_val, f)"
      ]
    },
    {
      "cell_type": "markdown",
      "metadata": {
        "id": "uM1thbN-ntjI"
      },
      "source": [
        "### Set Configs"
      ]
    },
    {
      "cell_type": "code",
      "execution_count": null,
      "metadata": {
        "id": "HUjkwRsOn1O0"
      },
      "outputs": [],
      "source": [
        "'''\n",
        "# Set the configs for the detection part in here.\n",
        "# TODO: approx 15 lines\n",
        "'''\n",
        "cfg = get_cfg()\n",
        "cfg.OUTPUT_DIR = \"{}/output/\".format(BASE_DIR)\n",
        "cfg.merge_from_file(model_zoo.get_config_file(\"COCO-Detection/faster_rcnn_X_101_32x8d_FPN_3x.yaml\"))\n",
        "cfg.DATASETS.TRAIN = (\"data_detection_train\",)\n",
        "cfg.DATASETS.TEST = (\"data_detection_test\",)\n",
        "cfg.DATALOADER.NUM_WORKERS = 4\n",
        "cfg.MODEL.WEIGHTS = model_zoo.get_checkpoint_url(\"COCO-Detection/faster_rcnn_X_101_32x8d_FPN_3x.yaml\")  \n",
        "cfg.SOLVER.IMS_PER_BATCH = 2\n",
        "cfg.SOLVER.BASE_LR = 0.003 \n",
        "cfg.SOLVER.LR_SCHEDULER_NAME = \"WarmupCosineLR\"\n",
        "cfg.SOLVER.STEPS = []\n",
        "cfg.MODEL.PIXEL_STD = [57.375, 57.120, 58.395]\n",
        "cfg.SOLVER.MOMENTUM = 0.9\n",
        "cfg.SOLVER.MAX_ITER = 2000  \n",
        "cfg.MODEL.ROI_HEADS.BATCH_SIZE_PER_IMAGE = 512  \n",
        "cfg.MODEL.ROI_HEADS.NUM_CLASSES = 1 "
      ]
    },
    {
      "cell_type": "markdown",
      "metadata": {
        "id": "P4rql8pNokE4"
      },
      "source": [
        "### Training"
      ]
    },
    {
      "cell_type": "code",
      "execution_count": null,
      "metadata": {
        "id": "7d3KxiHO_0gb",
        "collapsed": true
      },
      "outputs": [],
      "source": [
        "'''\n",
        "# Create a DefaultTrainer using the above config and train the model\n",
        "# TODO: approx 5 lines\n",
        "'''\n",
        "\n",
        "os.makedirs(cfg.OUTPUT_DIR, exist_ok=True)\n",
        "trainer = DefaultTrainer(cfg) \n",
        "trainer.resume_or_load(resume=False)\n",
        "trainer.train()"
      ]
    },
    {
      "cell_type": "markdown",
      "metadata": {
        "id": "fRVEiICco3SV"
      },
      "source": [
        "### Evaluation and Visualization"
      ]
    },
    {
      "cell_type": "code",
      "execution_count": null,
      "metadata": {
        "id": "VYCIXdMZvDYL",
        "collapsed": true
      },
      "outputs": [],
      "source": [
        "'''\n",
        "# After training the model, you need to update cfg.MODEL.WEIGHTS\n",
        "# Define a DefaultPredictor\n",
        "'''\n",
        "cfg.MODEL.WEIGHTS = os.path.join(cfg.OUTPUT_DIR, \"model_final.pth\")  \n",
        "cfg.MODEL.ROI_HEADS.SCORE_THRESH_TEST = 0.6 \n",
        "cfg.DATASETS.TEST = (\"data_detection_train\",)\n",
        "predictor = DefaultPredictor(cfg)"
      ]
    },
    {
      "cell_type": "code",
      "execution_count": null,
      "metadata": {
        "colab": {
          "background_save": true
        },
        "id": "_hRCf86KGi5v",
        "collapsed": true
      },
      "outputs": [],
      "source": [
        "from detectron2.data.build import get_detection_dataset_dicts\n",
        "'''\n",
        "# Visualize the output for 3 random test samples\n",
        "# TODO: approx 10 lines\n",
        "'''\n",
        "from detectron2.utils.visualizer import ColorMode\n",
        "test_dataset_dicts = get_detection_data(\"test\")\n",
        "for d in random.sample(test_dataset_dicts, 3):    \n",
        "    im = cv2.imread(d[\"file_name\"])\n",
        "    # im = torch.tensor(im, device=torch.device('cuda'), dtype=torch.float)\n",
        "    outputs = predictor(im)  \n",
        "    v = Visualizer(im[:, :, ::-1],\n",
        "                   metadata=data_detection_test_metadata, \n",
        "                   scale=0.5, \n",
        "                   instance_mode=ColorMode.IMAGE_BW \n",
        "    )\n",
        "    out = v.draw_instance_predictions(outputs[\"instances\"].to(\"cpu\"))\n",
        "    cv2_imshow(out.get_image()[:, :, ::-1])"
      ]
    },
    {
      "cell_type": "code",
      "execution_count": null,
      "metadata": {
        "id": "D0wRdlcKo6BD",
        "collapsed": true
      },
      "outputs": [],
      "source": [
        "'''\n",
        "# Use COCOEvaluator and build_detection_train_loader\n",
        "# You can save the output predictions using inference_on_dataset\n",
        "# TODO: approx 5 lines\n",
        "'''\n",
        "from detectron2.evaluation import COCOEvaluator, inference_on_dataset\n",
        "from detectron2.data import build_detection_test_loader\n",
        "evaluator = COCOEvaluator(\"data_detection_train\", output_dir=\"/content/drive/MyDrive/CMPT_CV_lab3/data/output/\")\n",
        "test_loader = build_detection_test_loader(cfg, \"data_detection_train\")\n",
        "print(inference_on_dataset(predictor.model, test_loader, evaluator))\n"
      ]
    },
    {
      "cell_type": "code",
      "execution_count": null,
      "metadata": {
        "id": "wloyflO4jkMo",
        "collapsed": true
      },
      "outputs": [],
      "source": [
        "%load_ext tensorboard\n",
        "%tensorboard --logdir \"/content/drive/MyDrive/CMPT_CV_lab3/data/output/\""
      ]
    },
    {
      "cell_type": "markdown",
      "metadata": {
        "id": "EwYvbwcjpKBk"
      },
      "source": [
        "### Improvements\n",
        "\n",
        "For this part, you can bring any improvement which you have by adding new input parameters to the previous functions or defining new functions and variables."
      ]
    },
    {
      "cell_type": "code",
      "execution_count": null,
      "metadata": {
        "id": "xdR6KbCZpOlk"
      },
      "outputs": [],
      "source": [
        "'''\n",
        "# Bring any changes and updates regarding the improvement in here\n",
        "'''\n"
      ]
    },
    {
      "cell_type": "markdown",
      "metadata": {
        "id": "98_M4TooqSs2"
      },
      "source": [
        "## Part 2: Semantic Segmentation"
      ]
    },
    {
      "cell_type": "markdown",
      "metadata": {
        "id": "ByAEsMtIPLrO"
      },
      "source": [
        "### Data Loader"
      ]
    },
    {
      "cell_type": "code",
      "execution_count": null,
      "metadata": {
        "id": "peQ95zLuIpkk"
      },
      "outputs": [],
      "source": [
        "from re import X\n",
        "'''\n",
        "# Write a function that returns the cropped image and corresponding mask regarding the target bounding box\n",
        "# idx is the index of the target bbox in the data\n",
        "# high-resolution image could be passed or could be load from data['file_name']\n",
        "# You can use the mask attribute of detectron2.utils.visualizer.GenericMask \n",
        "#     to convert the segmentation annotations to binary masks\n",
        "# TODO: approx 10 lines\n",
        "'''\n",
        "\n",
        "def get_instance_sample(data, idx, img=None):\n",
        "    d = list(data.values())[4]\n",
        "    x =  int(d[idx][\"bbox\"][0])\n",
        "    y =  int(d[idx][\"bbox\"][1])\n",
        "    w =  int(d[idx][\"bbox\"][2])\n",
        "    h =  int(d[idx][\"bbox\"][3])\n",
        "    obj_img = img[y:y+h, x:x+w, :]\n",
        "    obj_mask = np.zeros_like((obj_img.shape[0], obj_img.shape[1]))\n",
        "    if \"segmentation\" in d[idx]:\n",
        "      obj = detectron2.utils.visualizer.GenericMask(d[idx][\"segmentation\"], data[\"height\"], data[\"width\"])\n",
        "      obj_mask = obj.mask\n",
        "      # plt.figure()\n",
        "      # plt.imshow(obj_mask, cmap='gray')\n",
        "      obj_mask = obj_mask[y:y+h, x:x+w]\n",
        "      # plt.figure()\n",
        "      # plt.imshow(obj_mask, cmap='gray')\n",
        "    return obj_img, obj_mask"
      ]
    },
    {
      "cell_type": "code",
      "execution_count": null,
      "metadata": {
        "id": "sxrc9X_pjzj-"
      },
      "outputs": [],
      "source": [
        "'''\n",
        "# We have provided a template data loader for your segmentation training\n",
        "# You need to complete the __getitem__() function before running the code\n",
        "# You may also need to add data augmentation or normalization in here\n",
        "'''\n",
        "\n",
        "class PlaneDataset(Dataset):\n",
        "  def __init__(self, set_name, data_list):\n",
        "      self.transforms = transforms.Compose([\n",
        "          # transforms.ToTensor(),\n",
        "          # transforms.Resize((256,256)),\n",
        "          # transforms.RandomCrop((128,128), padding=4, padding_mode=\"reflect\"), \n",
        "          # transforms.RandomRotation(15),\n",
        "          # transforms.RandomHorizontalFlip(),\n",
        "          # transforms.Normalize()\n",
        "      ])\n",
        "      self.set_name = set_name\n",
        "      self.data = data_list\n",
        "      self.instance_map = []\n",
        "      for i, d in enumerate(self.data):\n",
        "        for j in range(len(d['annotations'])):\n",
        "          self.instance_map.append([i,j])\n",
        "\n",
        "  '''\n",
        "  # you can change the value of length to a small number like 10 for debugging of your training procedure and overfeating\n",
        "  # make sure to use the correct length for the final training\n",
        "  '''\n",
        "  def __len__(self):\n",
        "      return len(self.instance_map)\n",
        "\n",
        "  def numpy_to_tensor(self, img, mask):\n",
        "    if self.transforms is not None:\n",
        "        img = self.transforms(img)\n",
        "    img = torch.tensor(img, dtype=torch.float)\n",
        "    mask = torch.tensor(mask, dtype=torch.float)\n",
        "    return img, mask\n",
        "\n",
        "  '''\n",
        "  # Complete this part by using get_instance_sample function\n",
        "  # make sure to resize the img and mask to a fixed size (for example 128*128)\n",
        "  # you can use \"interpolate\" function of pytorch or \"numpy.resize\"\n",
        "  # TODO: 5 lines\n",
        "  '''\n",
        "  def __getitem__(self, idx):\n",
        "    if torch.is_tensor(idx):\n",
        "        idx = idx.tolist()\n",
        "    idx = self.instance_map[idx]\n",
        "    data = self.data[idx[0]]\n",
        "    idx = idx[1]\n",
        "    file_name = data[\"file_name\"]\n",
        "    img = cv2.imread(file_name)\n",
        "    if img is None:\n",
        "      img = Image.open(file_name)\n",
        "      img = np.asarray(img)\n",
        "    img, mask = get_instance_sample(data, idx, img)\n",
        "    img, mask = self.numpy_to_tensor(img, mask)\n",
        "    img = torch.permute(img, (2, 0, 1))\n",
        "    img = torch.nn.functional.interpolate(img.unsqueeze(0).float(), size=(256,256), mode='nearest').squeeze(0)\n",
        "    mask = mask.unsqueeze(0)\n",
        "    mask = torch.nn.functional.interpolate(mask.unsqueeze(0).float(), size=(256,256), mode='nearest').squeeze(0)\n",
        "    return img, mask\n",
        "\n",
        "def get_plane_dataset(set_name='train', batch_size=2):\n",
        "    my_data_list = DatasetCatalog.get(\"data_detection_{}\".format(set_name))\n",
        "    dataset = PlaneDataset(set_name, my_data_list)\n",
        "    loader = DataLoader(dataset, batch_size=batch_size, num_workers=4,\n",
        "                                              pin_memory=True, shuffle=True)\n",
        "    return loader, dataset"
      ]
    },
    {
      "cell_type": "markdown",
      "metadata": {
        "id": "m6eH3NKaQQfc"
      },
      "source": [
        "### Network"
      ]
    },
    {
      "cell_type": "code",
      "execution_count": null,
      "metadata": {
        "id": "PeqR3s3dSBPN"
      },
      "outputs": [],
      "source": [
        "'''\n",
        "# convolution module as a template layer consists of conv2d layer, batch normalization, and relu activation\n",
        "'''\n",
        "class conv(nn.Module):\n",
        "    def __init__(self, in_ch, out_ch, activation=True):\n",
        "        super(conv, self).__init__()\n",
        "        if(activation):\n",
        "          self.layer = nn.Sequential(\n",
        "             nn.Conv2d(in_ch, out_ch, 3, padding=1),\n",
        "             nn.BatchNorm2d(out_ch),\n",
        "             nn.ReLU(inplace=False)\n",
        "          )\n",
        "        else:\n",
        "          self.layer = nn.Sequential(\n",
        "             nn.Conv2d(in_ch, out_ch, 3, padding=1)  \n",
        "             )\n",
        "\n",
        "    def forward(self, x):\n",
        "        x = self.layer(x)\n",
        "        return x\n",
        "\n",
        "'''\n",
        "# downsampling module equal to a conv module followed by a max-pool layer\n",
        "'''\n",
        "class down(nn.Module):\n",
        "    def __init__(self, in_ch, out_ch):\n",
        "        super(down, self).__init__()\n",
        "        self.layer = nn.Sequential(\n",
        "            conv(in_ch, out_ch, True),\n",
        "            nn.MaxPool2d(2)\n",
        "            )\n",
        "\n",
        "    def forward(self, x):\n",
        "        x = self.layer(x)\n",
        "        return x\n",
        "\n",
        "'''\n",
        "# upsampling module equal to a upsample function followed by a conv module\n",
        "'''\n",
        "class up(nn.Module):\n",
        "    def __init__(self, in_ch, out_ch, bilinear=False):\n",
        "        super(up, self).__init__()\n",
        "        if bilinear:\n",
        "            self.up = nn.Upsample(scale_factor=2, mode='bilinear', align_corners=True)\n",
        "        else:\n",
        "            self.up = nn.ConvTranspose2d(in_ch, in_ch, 2, stride=2)\n",
        "\n",
        "        self.conv = conv(in_ch, out_ch, True)\n",
        "\n",
        "    def forward(self, x):\n",
        "        y = self.up(x)\n",
        "        y = self.conv(y)\n",
        "        return y\n",
        "\n",
        "'''\n",
        "# the main model which you need to complete by using above modules.\n",
        "# you can also modify the above modules in order to improve your results.\n",
        "'''\n",
        "class MyModel(nn.Module):\n",
        "    def __init__(self):\n",
        "        super(MyModel, self).__init__()\n",
        "        \n",
        "        # Encoder\n",
        "        \n",
        "        self.input_conv = conv(3, 16, True)\n",
        "        self.down1 = down(16, 32)\n",
        "        self.conv2 = conv(32, 32, True)\n",
        "        self.down2 = down(32, 64)\n",
        "        self.down3 = down(64, 128)\n",
        "        self.conv3 = conv(128, 128, True)\n",
        "        self.conv4 = conv(128, 512, True)\n",
        "        \n",
        "        # Decoder\n",
        "        \n",
        "        self.conv5 = conv(512, 128, True)\n",
        "        self.conv6 = conv(128, 128, True)\n",
        "        self.up1 = up(128, 64)\n",
        "        self.up2 = up(64, 32)\n",
        "        self.conv7 = conv(32, 32, True)\n",
        "        self.up3 = up(32, 16)\n",
        "        self.conv8 = conv(16, 3, True)\n",
        "        self.output_conv = conv(3, 1, False) # ReLu activation is removed to keep the logits for the loss function\n",
        "        \n",
        "\n",
        "    def forward(self, input):\n",
        "      y = self.input_conv(input)\n",
        "      y = self.down1(y)\n",
        "      y1 = self.conv2(y)\n",
        "      y1 += y\n",
        "      y = self.down2(y1)\n",
        "      y = self.down3(y)\n",
        "      y1 = self.conv3(y)\n",
        "      y1 += y\n",
        "      y = self.conv4(y1)\n",
        "      y = self.conv5(y)\n",
        "      y1 = self.conv6(y)\n",
        "      y1 += y\n",
        "      y = self.up1(y1)\n",
        "      y = self.up2(y)\n",
        "      y1 = self.conv7(y)\n",
        "      y1 += y\n",
        "      y = self.up3(y1)\n",
        "      y = self.conv8(y)\n",
        "      output = self.output_conv(y)\n",
        "      return output"
      ]
    },
    {
      "cell_type": "markdown",
      "metadata": {
        "id": "rQj86vD9QT_Z"
      },
      "source": [
        "### Training"
      ]
    },
    {
      "cell_type": "code",
      "execution_count": null,
      "metadata": {
        "id": "MaZuO4SKSBuF",
        "collapsed": true
      },
      "outputs": [],
      "source": [
        "'''\n",
        "# The following is a basic training procedure to train the network\n",
        "# You need to update the code to get the best performance\n",
        "# TODO: approx ? lines\n",
        "'''\n",
        "# Set the hyperparameters\n",
        "num_epochs = 10\n",
        "batch_size = 4\n",
        "learning_rate = 0.008\n",
        "weight_decay = 3e-5\n",
        "\n",
        "model = MyModel() # initialize the model\n",
        "model = model.cuda() # move the model to GPU\n",
        "\n",
        "loader, _ = get_plane_dataset('train', batch_size) # initialize data_loader\n",
        "crit = nn.BCEWithLogitsLoss() # Define the loss function\n",
        "optim = torch.optim.Adam(model.parameters(), lr=learning_rate, weight_decay=weight_decay)\n",
        "sch = torch.optim.lr_scheduler.CosineAnnealingLR(optim, T_max=num_epochs)\n",
        "# ix = 0\n",
        "# start the training procedure\n",
        "for epoch in range(3,num_epochs):\n",
        "  total_loss = 0\n",
        "  for (img, mask) in tqdm(loader):\n",
        "    img = img.cuda()\n",
        "    mask = mask.cuda()\n",
        "    pred = model(img)\n",
        "    loss = crit(pred, mask)\n",
        "    optim.zero_grad()\n",
        "    loss.backward()\n",
        "    optim.step()\n",
        "    total_loss += loss.cpu().data\n",
        "    # ix += 1\n",
        "    # if ix % 100 == 0:\n",
        "    #   print(total_loss)\n",
        "  print(\"Epoch: {}, Loss: {}\".format(epoch, total_loss/len(loader)))\n",
        "  torch.save(model.state_dict(), '{}/output/{}_segmentation_model.pth'.format(BASE_DIR, epoch))\n",
        "  sch.step()\n",
        "\n",
        "'''\n",
        "# Saving the final model \n",
        "'''\n",
        "torch.save(model.state_dict(), '{}/output/final_segmentation_model.pth'.format(BASE_DIR))\n"
      ]
    },
    {
      "cell_type": "code",
      "source": [
        "# Taken from the training runs\n",
        "Epoch = [0,1,2,3,4,5,6,7,8,9]\n",
        "Loss = [0.29557718515396, 0.250679028034, 0.235619907896, 0.21746918559074402, 0.2146557718515396, 0.21142378449440002, 0.2089690864086151, 0.20506790280342102, 0.20036287605762482,  0.19746056199073792\n",
        "]\n",
        "\n",
        "plt.plot(Epoch, Loss) \n",
        "plt.grid()  \n",
        "plt.xlabel('Epochs') \n",
        "plt.ylabel('Training Loss') \n",
        "plt.title('Loss vs Epochs') \n",
        "plt.show() "
      ],
      "metadata": {
        "collapsed": true,
        "id": "1c3fsct8tga2"
      },
      "execution_count": null,
      "outputs": []
    },
    {
      "cell_type": "markdown",
      "metadata": {
        "id": "0dyez1fyQYw7"
      },
      "source": [
        "### Evaluation and Visualization"
      ]
    },
    {
      "cell_type": "code",
      "execution_count": null,
      "metadata": {
        "id": "TDeViryUSCL2",
        "collapsed": true
      },
      "outputs": [],
      "source": [
        "from IPython.core.profiledir import ProfileDir\n",
        "'''\n",
        "# Before starting the evaluation, you need to set the model mode to eval\n",
        "# You may load the trained model again, in case if you want to continue your code later\n",
        "# TODO: approx 15 lines\n",
        "'''\n",
        "batch_size = 4\n",
        "model = MyModel().cuda()\n",
        "model.load_state_dict(torch.load('{}/output/final_segmentation_model.pth'.format(BASE_DIR)))\n",
        "model = model.eval() # chaning the model to evaluation mode will fix the bachnorm layers\n",
        "loader, dataset = get_plane_dataset('train', batch_size)\n",
        "\n",
        "total_iou = 0\n",
        "no_of_batches = 0\n",
        "for (img, mask) in tqdm(loader):\n",
        "  with torch.no_grad():\n",
        "    no_of_batches += 1\n",
        "    img = img.cuda()\n",
        "    mask = mask.cuda()\n",
        "    pred = model(img)\n",
        "    threshold = (torch.min(pred) + torch.max(pred)) / 2\n",
        "    pred[pred >= threshold] = 1\n",
        "    pred[pred < threshold] = 0\n",
        "    pred = pred.cpu().numpy()\n",
        "    mask = mask.cpu().numpy()\n",
        "    intersection = np.logical_and(mask, pred)\n",
        "    union = np.logical_or(mask, pred)\n",
        "    total_iou += np.sum(intersection) / np.sum(union)\n",
        "    '''\n",
        "    ## Complete the code by obtaining the IoU for each img and print the final Mean IoU\n",
        "    '''\n",
        "    \n",
        " \n",
        "print(\"\\n #images: {}, Mean IoU: {}\".format(no_of_batches * batch_size, total_iou / no_of_batches))\n"
      ]
    },
    {
      "cell_type": "code",
      "execution_count": null,
      "metadata": {
        "id": "jbmTj9JICiKz",
        "collapsed": true
      },
      "outputs": [],
      "source": [
        "'''\n",
        "# Visualize 3 sample outputs\n",
        "# TODO: approx 5 lines\n",
        "'''\n",
        "\n",
        "\n",
        "from matplotlib import pyplot as plt\n",
        "\n",
        "from detectron2.utils.visualizer import ColorMode\n",
        "test_dataset_dicts = get_detection_data(\"test\")\n",
        "for d in random.sample(test_dataset_dicts, 3):    \n",
        "    im = cv2.imread(d[\"file_name\"])\n",
        "\n",
        "    outputs = predictor(im) \n",
        "    box_iter = iter(outputs[\"instances\"].get_fields()[\"pred_boxes\"])\n",
        "    try:\n",
        "      item = next(box_iter)\n",
        "      item = item.cpu().numpy()\n",
        "      x =  round(item[0])\n",
        "      y =  round(item[1])\n",
        "      w =  round(item[2] - item[0])\n",
        "      h =  round(item[3] - item[1])\n",
        "      img1 = im[y:y+h, x:x+w, :]\n",
        "    except Exception as e:\n",
        "      continue\n",
        "\n",
        "    img = torch.tensor(img1, dtype=torch.float)\n",
        "    img = torch.permute(img, (2, 0, 1))\n",
        "    img = torch.nn.functional.interpolate(img.unsqueeze(0).float(), size=(256,256), mode='nearest').squeeze(0)\n",
        "    img = img.unsqueeze(0)\n",
        "    img = img.cuda()\n",
        "    with torch.no_grad():\n",
        "      pred = model(img)  \n",
        "    pred = pred.squeeze(0).squeeze(0)\n",
        "    threshold = (torch.min(pred) + torch.max(pred)) / 2\n",
        "    pred[pred >= threshold] = 1\n",
        "    pred[pred < threshold] = 0\n",
        "    \n",
        "    pred = pred.detach().cpu().numpy()\n",
        "    plt.figure()\n",
        "    plt.imshow(pred, cmap='gray')\n",
        "    plt.figure()\n",
        "    plt.imshow(img1)\n",
        "\n",
        "\n",
        "    # img, mask = get_instance_sample(d, 0, im)\n",
        "\n"
      ]
    },
    {
      "cell_type": "markdown",
      "metadata": {
        "id": "navoiGdrqaZT"
      },
      "source": [
        "## Part 3: Instance Segmentation\n",
        "\n",
        "In this part, you need to obtain the instance segmentation results for the test data by using the trained segmentation model in the previous part and the detection model in Part 1."
      ]
    },
    {
      "cell_type": "markdown",
      "metadata": {
        "id": "vBwk33DGBowP"
      },
      "source": [
        "### Get Prediction"
      ]
    },
    {
      "cell_type": "code",
      "execution_count": null,
      "metadata": {
        "id": "crrZ8TG-Ot2J"
      },
      "outputs": [],
      "source": [
        "from matplotlib.pyplot import xticks\n",
        "'''\n",
        "# Define a new function to obtain the prediction mask by passing a sample data\n",
        "# For this part, you need to use all the previous parts (predictor, get_instance_sample, data preprocessings, etc)\n",
        "# It is better to keep everything (as well as the output of this funcion) on gpu as tensors to speed up the operations.\n",
        "# pred_mask is the instance segmentation result and should have different values for different planes.\n",
        "# TODO: approx 35 lines\n",
        "'''\n",
        "\n",
        "count = 0 \n",
        "model = MyModel().cuda()\n",
        "model.load_state_dict(torch.load('{}/output/final_segmentation_model.pth'.format(BASE_DIR)))\n",
        "model = model.eval() # chaning the model to evaluation mode will fix the bachnorm layers\n",
        "\n",
        "cfg.MODEL.WEIGHTS = os.path.join(cfg.OUTPUT_DIR, \"model_final.pth\")  \n",
        "cfg.MODEL.ROI_HEADS.SCORE_THRESH_TEST = 0.6 \n",
        "predictor = DefaultPredictor(cfg)\n",
        "\n",
        "def get_prediction_mask(data):\n",
        "    gt_masks_list = []\n",
        "    pred_masks_list = []\n",
        "    file_name = data['image_id']\n",
        "    img = cv2.imread(file_name)\n",
        "    if img is None:\n",
        "      img = Image.open(file_name)\n",
        "      img = np.asarray(img)\n",
        "    gt_mask = np.zeros([img.shape[0], img.shape[1]])\n",
        "    pred_mask = np.zeros([img.shape[0], img.shape[1]])\n",
        "    \n",
        "    if len(data[\"annotations\"]) > 0:\n",
        "      for i in range(len(data[\"annotations\"])):\n",
        "        im, mask = get_instance_sample(data, i, img)\n",
        "        d = list(data.values())[4]\n",
        "        x =  int(d[i][\"bbox\"][0])\n",
        "        y =  int(d[i][\"bbox\"][1])\n",
        "        w =  int(d[i][\"bbox\"][2])\n",
        "        h =  int(d[i][\"bbox\"][3])\n",
        "        \n",
        "        gt_mask[y:y+h, x:x+w] = mask * (i + 1)\n",
        "        mask = torch.tensor(mask, dtype=torch.int32)\n",
        "        gt_masks_list.append(mask)\n",
        "    \n",
        "    with torch.no_grad():\n",
        "      outputs = predictor(img) \n",
        "    box_iter = iter(outputs[\"instances\"].get_fields()[\"pred_boxes\"])\n",
        "    counter = 0\n",
        "    while True:\n",
        "      try:\n",
        "        item = next(box_iter)\n",
        "        counter += 1\n",
        "        item = item.cpu().numpy()\n",
        "        x =  round(item[0])\n",
        "        y =  round(item[1])\n",
        "        w =  round(item[2] - item[0])\n",
        "        h =  round(item[3] - item[1])\n",
        "        obj = {}\n",
        "        obj[\"bbox\"] = [x,y,w,h]\n",
        "        data[\"annotations\"] = [obj]\n",
        "        im, mask = get_instance_sample(data, 0, img)\n",
        "        im = torch.tensor(im, dtype=torch.float)\n",
        "        im = torch.permute(im, (2, 0, 1))\n",
        "        im = torch.nn.functional.interpolate(im.unsqueeze(0).float(), size=(256,256), mode='nearest').squeeze(0)\n",
        "        im = im.unsqueeze(0)\n",
        "        im = im.cuda()\n",
        "        with torch.no_grad():\n",
        "          pred = model(im)\n",
        "        pred = pred.squeeze(0).squeeze(0)\n",
        "        threshold = (torch.min(pred) + torch.max(pred)) / 2\n",
        "        pred[pred >= threshold] = 1\n",
        "        pred[pred < threshold] = 0\n",
        "        pred = pred.detach().cpu().numpy()\n",
        "        # plt.figure()\n",
        "        # plt.imshow(pred, cmap='gray')\n",
        "        s = pred_mask[y:y+h, x:x+w].shape\n",
        "        pred = cv2.resize(pred, (s[1], s[0]), interpolation=cv2.INTER_NEAREST)\n",
        "        pred_mask[y:y+h, x:x+w] = pred * (counter)\n",
        "        pred = torch.tensor(pred, dtype=torch.int32)\n",
        "        pred_masks_list.append(pred)\n",
        "      except Exception as e:\n",
        "        # print(str(e))\n",
        "        break\n",
        "    gt_mask = torch.tensor(gt_mask, dtype=torch.int32)\n",
        "    pred_mask = torch.tensor(pred_mask, dtype=torch.int32)\n",
        "    return img, gt_mask, pred_mask, gt_masks_list, pred_masks_list # gt_mask could be all zero when the ground truth is not given.\n"
      ]
    },
    {
      "cell_type": "markdown",
      "metadata": {
        "id": "fc7TSK6EBi9u"
      },
      "source": [
        "### Visualization and Submission"
      ]
    },
    {
      "cell_type": "code",
      "execution_count": null,
      "metadata": {
        "id": "H7T2YX8MBiGO",
        "collapsed": true
      },
      "outputs": [],
      "source": [
        "'''\n",
        "# Visualise the output prediction as well as the GT Mask and Input image for a sample input\n",
        "# TODO: approx 10 lines\n",
        "'''\n",
        "\n",
        "test_dataset_dicts = get_detection_data(\"train\")\n",
        "for d in random.sample(test_dataset_dicts, 1):  \n",
        "  sample = d\n",
        "  sample['image_id'] = sample['file_name']\n",
        "  img, true_mask, pred_mask, gt_masks_list, pred_masks_list = get_prediction_mask(sample)\n",
        "\n",
        "  import matplotlib.pyplot as plt\n",
        "  plt.figure(figsize=(15,10))\n",
        "  plt.imshow(pred_mask, cmap='gray')\n",
        "  plt.figure(figsize=(15,10))\n",
        "  plt.imshow(true_mask, cmap='gray')\n",
        "  plt.figure(figsize=(15,10))\n",
        "  plt.imshow(img)"
      ]
    },
    {
      "cell_type": "code",
      "source": [
        "'''\n",
        "# Visualise the output prediction and Input image for a test input\n",
        "# TODO: approx 10 lines\n",
        "'''\n",
        "\n",
        "test_dataset_dicts = get_detection_data(\"test\")\n",
        "for d in random.sample(test_dataset_dicts, 1):  \n",
        "  sample = d\n",
        "  sample['image_id'] = sample['file_name']\n",
        "  img, true_mask, pred_mask, gt_masks_list, pred_masks_list = get_prediction_mask(sample)\n",
        "\n",
        "  import matplotlib.pyplot as plt\n",
        "  plt.figure(figsize=(15,10))\n",
        "  plt.imshow(pred_mask, cmap='gray')\n",
        "  plt.figure(figsize=(15,10))\n",
        "  plt.imshow(img)"
      ],
      "metadata": {
        "collapsed": true,
        "id": "tX1q-wUZ12U7"
      },
      "execution_count": null,
      "outputs": []
    },
    {
      "cell_type": "code",
      "execution_count": null,
      "metadata": {
        "id": "uPo_03up-g_f"
      },
      "outputs": [],
      "source": [
        "'''\n",
        "# ref: https://www.kaggle.com/rakhlin/fast-run-length-encoding-python\n",
        "# https://www.kaggle.com/c/airbus-ship-detection/overview/evaluation\n",
        "'''\n",
        "def rle_encoding(x):\n",
        "    '''\n",
        "    x: pytorch tensor on gpu, 1 - mask, 0 - background\n",
        "    Returns run length as list\n",
        "    '''\n",
        "    dots = torch.where(torch.flatten(x.long())==1)[0]\n",
        "    if(len(dots)==0):\n",
        "      return []\n",
        "    inds = torch.where(dots[1:]!=dots[:-1]+1)[0]+1\n",
        "    inds = inds.cuda()\n",
        "    inds = torch.cat((torch.tensor([0], device=torch.device('cuda'), dtype=torch.long), inds))\n",
        "    tmpdots = dots[inds]\n",
        "    tmpdots = tmpdots.cuda()\n",
        "    inds = torch.cat((inds, torch.tensor([len(dots)], device=torch.device('cuda'))))\n",
        "    inds = inds[1:] - inds[:-1]\n",
        "    runs = torch.cat((tmpdots, inds)).reshape((2,-1))\n",
        "    runs = torch.flatten(torch.transpose(runs, 0, 1)).cpu().data.numpy()\n",
        "    return ' '.join([str(i) for i in runs])"
      ]
    },
    {
      "cell_type": "code",
      "execution_count": null,
      "metadata": {
        "id": "zv0rab2LJev-",
        "collapsed": true
      },
      "outputs": [],
      "source": [
        "'''\n",
        "# You need to upload the csv file on kaggle\n",
        "# The speed of your code in the previous parts highly affects the running time of this part\n",
        "'''\n",
        "\n",
        "preddic = {\"ImageId\": [], \"EncodedPixels\": []}\n",
        "\n",
        "'''\n",
        "# Writing the predictions of the training set\n",
        "'''\n",
        "my_data_list = DatasetCatalog.get(\"data_detection_{}\".format('train'))\n",
        "for i in tqdm(range(len(my_data_list)), position=0, leave=True):\n",
        "  sample = my_data_list[i]\n",
        "  sample['image_id'] = sample['file_name']\n",
        "  img, true_mask, pred_mask, gt_masks_list, pred_masks_list = get_prediction_mask(sample)\n",
        "  inds = torch.unique(pred_mask)\n",
        "  if(len(inds)==1):\n",
        "    sample['image_id'] = sample['file_name'].split(\"/\")[-1][:-4]\n",
        "    preddic['ImageId'].append(sample['image_id'])\n",
        "    preddic['EncodedPixels'].append([])\n",
        "  else:\n",
        "    for index in inds:\n",
        "      if(index == 0):\n",
        "        continue\n",
        "      tmp_mask = (pred_mask==index)\n",
        "      encPix = rle_encoding(tmp_mask)\n",
        "      sample['image_id'] = sample['file_name'].split(\"/\")[-1][:-4]\n",
        "      preddic['ImageId'].append(sample['image_id'])\n",
        "      preddic['EncodedPixels'].append(encPix)\n",
        "\n",
        "print(len(preddic[\"ImageId\"]))\n",
        "\n",
        "'''\n",
        "# Writing the predictions of the test set\n",
        "'''\n",
        "\n",
        "my_data_list = DatasetCatalog.get(\"data_detection_{}\".format('test'))\n",
        "for i in tqdm(range(len(my_data_list)), position=0, leave=True):\n",
        "  sample = my_data_list[i]\n",
        "  sample['image_id'] = sample['file_name']\n",
        "  img, true_mask, pred_mask, gt_masks_list, pred_masks_list = get_prediction_mask(sample)\n",
        "  inds = torch.unique(pred_mask)\n",
        "  if(len(inds)==1):\n",
        "    sample['image_id'] = sample['file_name'].split(\"/\")[-1][:-4]\n",
        "    preddic['ImageId'].append(sample['image_id'])\n",
        "    preddic['EncodedPixels'].append([])\n",
        "  else:\n",
        "    for index in inds:\n",
        "      if(index == 0):\n",
        "        continue\n",
        "      tmp_mask = (pred_mask==index)\n",
        "      encPix = rle_encoding(tmp_mask)\n",
        "      sample['image_id'] = sample['file_name'].split(\"/\")[-1][:-4]\n",
        "      preddic['ImageId'].append(sample['image_id'])\n",
        "      preddic['EncodedPixels'].append(encPix)\n",
        "\n",
        "print(len(preddic[\"ImageId\"]))\n",
        "\n",
        "pred_file = open(\"{}/pred.csv\".format(BASE_DIR), 'w')\n",
        "pd.DataFrame(preddic).to_csv(pred_file, index=False)\n",
        "pred_file.close()\n"
      ]
    },
    {
      "cell_type": "markdown",
      "metadata": {
        "id": "p7nN4SduqrpI"
      },
      "source": [
        "## Part 4: Mask R-CNN\n",
        "\n",
        "For this part you need to follow a same procedure to part 2 with the configs of Mask R-CNN, other parts are generally the same as part 2."
      ]
    },
    {
      "cell_type": "markdown",
      "metadata": {
        "id": "axWf7drKNXYd"
      },
      "source": [
        "### Data Loader"
      ]
    },
    {
      "cell_type": "code",
      "execution_count": null,
      "metadata": {
        "id": "yC1FDCcQN2LH"
      },
      "outputs": [],
      "source": [
        "dataset_dicts_train = get_detection_data(\"train\")\n",
        "dataset_dicts_test = get_detection_data(\"test\")"
      ]
    },
    {
      "cell_type": "markdown",
      "metadata": {
        "id": "lG5slAhQNjE7"
      },
      "source": [
        "### Network"
      ]
    },
    {
      "cell_type": "code",
      "execution_count": null,
      "metadata": {
        "id": "KG1pnKLMOcjS"
      },
      "outputs": [],
      "source": [
        "'''\n",
        "# Set the configs for the detection part in here.\n",
        "# TODO: approx 15 lines\n",
        "'''\n",
        "cfg = get_cfg()\n",
        "cfg.OUTPUT_DIR = \"{}/output/\".format(BASE_DIR)\n",
        "cfg.merge_from_file(model_zoo.get_config_file(\"COCO-InstanceSegmentation/mask_rcnn_R_50_FPN_3x.yaml\"))\n",
        "cfg.DATASETS.TRAIN = (\"data_detection_train\",)\n",
        "cfg.DATASETS.TEST = (\"data_detection_test\",)\n",
        "cfg.DATALOADER.NUM_WORKERS = 4\n",
        "cfg.MODEL.WEIGHTS = model_zoo.get_checkpoint_url(\"COCO-InstanceSegmentation/mask_rcnn_R_50_FPN_3x.yaml\")  \n",
        "cfg.SOLVER.IMS_PER_BATCH = 2\n",
        "cfg.SOLVER.BASE_LR = 0.003 \n",
        "cfg.SOLVER.LR_SCHEDULER_NAME = \"WarmupCosineLR\"\n",
        "cfg.SOLVER.STEPS = []\n",
        "cfg.MODEL.PIXEL_STD = [57.375, 57.120, 58.395]\n",
        "cfg.SOLVER.MOMENTUM = 0.9\n",
        "cfg.SOLVER.MAX_ITER = 2000  \n",
        "cfg.MODEL.ROI_HEADS.BATCH_SIZE_PER_IMAGE = 512  \n",
        "cfg.MODEL.ROI_HEADS.NUM_CLASSES = 1 "
      ]
    },
    {
      "cell_type": "markdown",
      "metadata": {
        "id": "t7ifeV1sNvtt"
      },
      "source": [
        "### Training"
      ]
    },
    {
      "cell_type": "code",
      "execution_count": null,
      "metadata": {
        "id": "tc4K0Nz5OeKk",
        "collapsed": true
      },
      "outputs": [],
      "source": [
        "os.makedirs(cfg.OUTPUT_DIR, exist_ok=True)\n",
        "trainer_4 = DefaultTrainer(cfg) \n",
        "trainer_4.resume_or_load(resume=False)\n",
        "trainer_4.train()"
      ]
    },
    {
      "cell_type": "markdown",
      "metadata": {
        "id": "298QruFnNxyn"
      },
      "source": [
        "### Evaluation and Visualization"
      ]
    },
    {
      "cell_type": "code",
      "execution_count": null,
      "metadata": {
        "id": "KcGwV5-9Oetp"
      },
      "outputs": [],
      "source": [
        "\n",
        "cfg.MODEL.WEIGHTS = os.path.join(cfg.OUTPUT_DIR, \"model_final.pth\")  \n",
        "cfg.MODEL.ROI_HEADS.SCORE_THRESH_TEST = 0.6 \n",
        "predictor_4 = DefaultPredictor(cfg)"
      ]
    },
    {
      "cell_type": "code",
      "execution_count": null,
      "metadata": {
        "id": "l_3wS2BFLLGp",
        "collapsed": true
      },
      "outputs": [],
      "source": [
        "from detectron2.evaluation import COCOEvaluator, inference_on_dataset\n",
        "from detectron2.data import build_detection_test_loader\n",
        "evaluator = COCOEvaluator(\"data_detection_train\", output_dir=\"/content/drive/MyDrive/CMPT_CV_lab3/data/output/\")\n",
        "test_loader = build_detection_test_loader(cfg, \"data_detection_train\")\n",
        "print(inference_on_dataset(predictor_4.model, test_loader, evaluator))"
      ]
    },
    {
      "cell_type": "code",
      "source": [
        "from detectron2.data.build import get_detection_dataset_dicts\n",
        "from detectron2.utils.visualizer import ColorMode\n",
        "test_dataset_dicts = get_detection_data(\"test\")\n",
        "for d in random.sample(test_dataset_dicts, 3):    \n",
        "    im = cv2.imread(d[\"file_name\"])\n",
        "    # im = torch.tensor(im, device=torch.device('cuda'), dtype=torch.float)\n",
        "    outputs = predictor_4(im)  \n",
        "    v = Visualizer(im[:, :, ::-1],\n",
        "                    metadata=data_detection_test_metadata, \n",
        "                    scale=0.5, \n",
        "                    instance_mode=ColorMode.IMAGE_BW \n",
        "      )\n",
        "    out = v.draw_dataset_dict(d)\n",
        "    cv2_imshow(out.get_image()[:, :, ::-1])\n",
        "\n",
        "    out = v.draw_instance_predictions(outputs[\"instances\"].to(\"cpu\"))\n",
        "    cv2_imshow(out.get_image()[:, :, ::-1])"
      ],
      "metadata": {
        "collapsed": true,
        "id": "Jq3R8KonVbe6"
      },
      "execution_count": null,
      "outputs": []
    }
  ],
  "metadata": {
    "accelerator": "GPU",
    "colab": {
      "collapsed_sections": [],
      "provenance": []
    },
    "kernelspec": {
      "display_name": "Python 3",
      "name": "python3"
    }
  },
  "nbformat": 4,
  "nbformat_minor": 0
}